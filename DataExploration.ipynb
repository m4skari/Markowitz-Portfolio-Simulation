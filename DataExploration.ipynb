{
 "cells": [
  {
   "cell_type": "code",
   "execution_count": null,
   "metadata": {},
   "outputs": [],
   "source": [
    "import pandas as pd\n",
    "import numpy as np\n",
    "from sklearn.preprocessing import MinMaxScaler\n",
    "\n",
    "file_path = r'E:\\term 12\\DataScience\\Final Project\\Dataset\\all_stocks_5yr.csv'\n",
    "df = pd.read_csv(file_path)\n",
    "\n",
    "df.dropna(inplace=True)\n",
    "df['date'] = pd.to_datetime(df['date'])\n",
    "\n",
    "#Normalization \n",
    "scaler = MinMaxScaler()\n",
    "df[['open', 'high', 'low', 'close', 'volume']] = scaler.fit_transform(\n",
    "    df[['open', 'high', 'low', 'close', 'volume']]\n",
    ")\n",
    "df.to_csv('cleaned_stocks.csv', index=False)\n"
   ]
  },
  {
   "cell_type": "code",
   "execution_count": null,
   "metadata": {},
   "outputs": [],
   "source": []
  }
 ],
 "metadata": {
  "kernelspec": {
   "display_name": "Python 3",
   "language": "python",
   "name": "python3"
  },
  "language_info": {
   "codemirror_mode": {
    "name": "ipython",
    "version": 3
   },
   "file_extension": ".py",
   "mimetype": "text/x-python",
   "name": "python",
   "nbconvert_exporter": "python",
   "pygments_lexer": "ipython3",
   "version": "3.9.5"
  }
 },
 "nbformat": 4,
 "nbformat_minor": 2
}
